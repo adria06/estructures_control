{
 "cells": [
  {
   "cell_type": "markdown",
   "id": "c83d2f28",
   "metadata": {},
   "source": [
    "# S02 T03: Estructura de control\n",
    "\n",
    "Objectius:\n",
    " * condicionals i bucles\n",
    " * if/else/elif\n",
    " * Funcions"
   ]
  },
  {
   "cell_type": "markdown",
   "id": "e79b5c44",
   "metadata": {},
   "source": [
    "## Exercici 1"
   ]
  },
  {
   "cell_type": "markdown",
   "id": "96af55a6",
   "metadata": {},
   "source": [
    "**L'exercici consisteix a crear un programa que et classifiqui una variable numèrica en funció de l’escala Suspès/Aprovat/Notable/Excel·lent.**"
   ]
  },
  {
   "cell_type": "code",
   "execution_count": 1,
   "id": "46d3c829",
   "metadata": {},
   "outputs": [
    {
     "name": "stdout",
     "output_type": "stream",
     "text": [
      "La nota que has tret es un 8 per tant tens un Notable\n"
     ]
    }
   ],
   "source": [
    "import numpy as np\n",
    "nota = np.random.randint(3,10) #Lower score of 3 to avoid excesive 'Suspes' during testing\n",
    "if nota >= 9:\n",
    "    nota_escrita = 'Excel·lent'\n",
    "elif nota >= 7:\n",
    "    nota_escrita = 'Notable'\n",
    "elif nota >= 5:\n",
    "    nota_escrita = \"Aprovat\"\n",
    "else:\n",
    "     nota_escrita = \"Suspès\"\n",
    "print ('La nota que has tret es un {} per tant tens un {}'.format(nota, nota_escrita))"
   ]
  },
  {
   "cell_type": "markdown",
   "id": "fe1e7585",
   "metadata": {},
   "source": [
    "## Exercici 2"
   ]
  },
  {
   "cell_type": "markdown",
   "id": "434a1c9a",
   "metadata": {},
   "source": [
    "[Programiz: Python Input, Output and Import]: https://www.programiz.com/python-programming/input-output-import\n",
    "**Utilitzant el següent tutorial [Programiz: Python Input, Output and Import] crea un programa que et pregunti dos números. T’ha de mostrar un missatge dient si el primer és més gran, el segon és més gran o són iguals.**"
   ]
  },
  {
   "cell_type": "code",
   "execution_count": 2,
   "id": "7ae78581",
   "metadata": {},
   "outputs": [
    {
     "name": "stdout",
     "output_type": "stream",
     "text": [
      "Introduce 2 numbers to know which one is bigger\n",
      "Introduce the first number:3\n",
      "Introduce the second number:3\n",
      "You try to trick me! Both are the same number\n"
     ]
    }
   ],
   "source": [
    "print ('Introduce 2 numbers to know which one is bigger')\n",
    "\n",
    "num1 = input ('Introduce the first number:')\n",
    "num2 = input ('Introduce the second number:')\n",
    "if num1>num2:\n",
    "    print('{} is bigger than {}'.format(num1, num2))\n",
    "elif num2<num1:\n",
    "    print('{} is bigger than {}'.format(num2, num1))\n",
    "else:\n",
    "    print('You try to trick me! Both are the same number')"
   ]
  },
  {
   "cell_type": "markdown",
   "id": "a4a50bd2",
   "metadata": {},
   "source": [
    "## Exercici 3"
   ]
  },
  {
   "cell_type": "markdown",
   "id": "449ce3bf",
   "metadata": {},
   "source": [
    "**Crea un programa que et pregunti el teu nom, i et demani un número. Si el número és 0, hauria de mostrar un missatge d’error. En cas contrari, hauria de mostrar el nom repetit tants cops com indiqui el número. Per exemple, “Joan Joan Joan”.**"
   ]
  },
  {
   "cell_type": "code",
   "execution_count": 7,
   "id": "5516f275",
   "metadata": {},
   "outputs": [
    {
     "name": "stdout",
     "output_type": "stream",
     "text": [
      "What's your name?Adrià\n",
      "How many times should I write your name?3\n",
      "Adrià Adrià Adrià \n"
     ]
    }
   ],
   "source": [
    "name = input('What\\'s your name?')\n",
    "repeat_times = int(input('How many times should I write your name?'))\n",
    "print('0?, OK, so I don\\'t repeat your name then!') if repeat_times == 0 else print ((name + ' ') * repeat_times)    "
   ]
  },
  {
   "cell_type": "markdown",
   "id": "b8b98c66",
   "metadata": {},
   "source": [
    "## Exercici 4"
   ]
  },
  {
   "cell_type": "markdown",
   "id": "21231327",
   "metadata": {},
   "source": [
    "**Crea un programa que donada una llista qualsevol, et digui si es simètrica o no. Si ho és, que et digui quants elements té.**"
   ]
  },
  {
   "cell_type": "code",
   "execution_count": 45,
   "id": "09814e01",
   "metadata": {},
   "outputs": [
    {
     "name": "stdout",
     "output_type": "stream",
     "text": [
      "The list is symmetric. The list has 6 elements.\n"
     ]
    }
   ],
   "source": [
    "def check_symmetric (list):  # Function to check the symmetry of a list\n",
    "    list_len = len(list)\n",
    "    half_len = int(list_len/2)\n",
    "    firsthalf = (list[:half_len])\n",
    "    if list_len%2==0:\n",
    "        secondhalf = list[half_len:]\n",
    "    else: \n",
    "        secondhalf = list[half_len+1:]\n",
    "    secondhalf.reverse()\n",
    "    if firsthalf == secondhalf:\n",
    "        print('The list is symmetric. The list has {} elements.'.format(list_len))\n",
    "    else:\n",
    "        print('The list is not symmetric')\n",
    "    \n",
    "# lists to check the function check_symmetric list\n",
    "list1 = [1,2,3,4,5]\n",
    "list2 = [3,2,1,2,3]\n",
    "list3 = [1,2,3,4,5,6]\n",
    "list4 = [3,2,1,1,2,3]\n",
    "\n",
    "check_symmetric(list4)"
   ]
  },
  {
   "cell_type": "markdown",
   "id": "e66d176a",
   "metadata": {},
   "source": [
    "## Exercici 5"
   ]
  },
  {
   "cell_type": "markdown",
   "id": "7a372cf9",
   "metadata": {},
   "source": [
    "**Crea un programa que donada una llista, et digui quants números coincideixen amb la seva posició. Per exemple [3,4,2,0,2,3,6] el 2 i el 6 coincideixen.**"
   ]
  },
  {
   "cell_type": "code",
   "execution_count": 59,
   "id": "fb0c8cbc",
   "metadata": {},
   "outputs": [
    {
     "name": "stdout",
     "output_type": "stream",
     "text": [
      "The numbers that match their position in the list are 2, 6\n"
     ]
    }
   ],
   "source": [
    "list = [3,4,2,0,2,3,6]\n",
    "list_same= []\n",
    "for i in range(len(list)):\n",
    "    if i == list[i]: list_same.append(list[i])\n",
    "if len(list_same) == 1:\n",
    "    print ('The number that match its position in the list is', ', '.join(map(str, list_same)))\n",
    "elif len(list_same) > 1:\n",
    "    print ('The numbers that match their position in the list are', ', '.join(map(str, list_same)))   \n",
    "else:\n",
    "    print ('Any number match their position in the list')"
   ]
  }
 ],
 "metadata": {
  "hide_input": false,
  "kernelspec": {
   "display_name": "Python 3",
   "language": "python",
   "name": "python3"
  },
  "language_info": {
   "codemirror_mode": {
    "name": "ipython",
    "version": 3
   },
   "file_extension": ".py",
   "mimetype": "text/x-python",
   "name": "python",
   "nbconvert_exporter": "python",
   "pygments_lexer": "ipython3",
   "version": "3.8.8"
  },
  "toc": {
   "base_numbering": 1,
   "nav_menu": {},
   "number_sections": true,
   "sideBar": true,
   "skip_h1_title": false,
   "title_cell": "Table of Contents",
   "title_sidebar": "Contents",
   "toc_cell": false,
   "toc_position": {},
   "toc_section_display": true,
   "toc_window_display": false
  },
  "varInspector": {
   "cols": {
    "lenName": 16,
    "lenType": 16,
    "lenVar": 40
   },
   "kernels_config": {
    "python": {
     "delete_cmd_postfix": "",
     "delete_cmd_prefix": "del ",
     "library": "var_list.py",
     "varRefreshCmd": "print(var_dic_list())"
    },
    "r": {
     "delete_cmd_postfix": ") ",
     "delete_cmd_prefix": "rm(",
     "library": "var_list.r",
     "varRefreshCmd": "cat(var_dic_list()) "
    }
   },
   "types_to_exclude": [
    "module",
    "function",
    "builtin_function_or_method",
    "instance",
    "_Feature"
   ],
   "window_display": false
  }
 },
 "nbformat": 4,
 "nbformat_minor": 5
}
